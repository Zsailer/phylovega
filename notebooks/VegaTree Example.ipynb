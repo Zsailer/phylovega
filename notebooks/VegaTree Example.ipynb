{
 "cells": [
  {
   "cell_type": "markdown",
   "metadata": {},
   "source": [
    "# Basic VegaTree Example"
   ]
  },
  {
   "cell_type": "code",
   "execution_count": 1,
   "metadata": {},
   "outputs": [],
   "source": [
    "# Import PhyloPandas to read tree data into DataFrame.\n",
    "from phylopandas import read_newick\n",
    "\n",
    "# Import PhyloVega.\n",
    "from phylovega import VegaTree"
   ]
  },
  {
   "cell_type": "markdown",
   "metadata": {},
   "source": [
    "Here is the newick string:\n",
    "```\n",
    "(Bovine:0.69395,(Hylobates:0.36079,(Pongo:0.33636,(G._Gorilla:0.17147,(P._paniscus:0.19268,H._sapiens:0.11927):0.08386):0.06124):0.15057):0.54939, Rodent:1.21460);\n",
    "```"
   ]
  },
  {
   "cell_type": "code",
   "execution_count": 2,
   "metadata": {},
   "outputs": [
    {
     "data": {
      "text/html": [
       "<div>\n",
       "<style scoped>\n",
       "    .dataframe tbody tr th:only-of-type {\n",
       "        vertical-align: middle;\n",
       "    }\n",
       "\n",
       "    .dataframe tbody tr th {\n",
       "        vertical-align: top;\n",
       "    }\n",
       "\n",
       "    .dataframe thead th {\n",
       "        text-align: right;\n",
       "    }\n",
       "</style>\n",
       "<table border=\"1\" class=\"dataframe\">\n",
       "  <thead>\n",
       "    <tr style=\"text-align: right;\">\n",
       "      <th></th>\n",
       "      <th>distance</th>\n",
       "      <th>id</th>\n",
       "      <th>label</th>\n",
       "      <th>length</th>\n",
       "      <th>parent</th>\n",
       "      <th>type</th>\n",
       "    </tr>\n",
       "  </thead>\n",
       "  <tbody>\n",
       "    <tr>\n",
       "      <th>0</th>\n",
       "      <td>0.00000</td>\n",
       "      <td>0</td>\n",
       "      <td>0</td>\n",
       "      <td>0.00000</td>\n",
       "      <td>None</td>\n",
       "      <td>root</td>\n",
       "    </tr>\n",
       "    <tr>\n",
       "      <th>1</th>\n",
       "      <td>0.69395</td>\n",
       "      <td>Bovine</td>\n",
       "      <td>Bovine</td>\n",
       "      <td>0.69395</td>\n",
       "      <td>0</td>\n",
       "      <td>leaf</td>\n",
       "    </tr>\n",
       "    <tr>\n",
       "      <th>2</th>\n",
       "      <td>0.54939</td>\n",
       "      <td>1</td>\n",
       "      <td>1</td>\n",
       "      <td>0.54939</td>\n",
       "      <td>0</td>\n",
       "      <td>node</td>\n",
       "    </tr>\n",
       "    <tr>\n",
       "      <th>3</th>\n",
       "      <td>0.91018</td>\n",
       "      <td>Hylobates</td>\n",
       "      <td>Hylobates</td>\n",
       "      <td>0.36079</td>\n",
       "      <td>1</td>\n",
       "      <td>leaf</td>\n",
       "    </tr>\n",
       "    <tr>\n",
       "      <th>4</th>\n",
       "      <td>0.69996</td>\n",
       "      <td>2</td>\n",
       "      <td>2</td>\n",
       "      <td>0.15057</td>\n",
       "      <td>1</td>\n",
       "      <td>node</td>\n",
       "    </tr>\n",
       "    <tr>\n",
       "      <th>5</th>\n",
       "      <td>1.03632</td>\n",
       "      <td>Pongo</td>\n",
       "      <td>Pongo</td>\n",
       "      <td>0.33636</td>\n",
       "      <td>2</td>\n",
       "      <td>leaf</td>\n",
       "    </tr>\n",
       "    <tr>\n",
       "      <th>6</th>\n",
       "      <td>0.76120</td>\n",
       "      <td>3</td>\n",
       "      <td>3</td>\n",
       "      <td>0.06124</td>\n",
       "      <td>2</td>\n",
       "      <td>node</td>\n",
       "    </tr>\n",
       "    <tr>\n",
       "      <th>7</th>\n",
       "      <td>0.93267</td>\n",
       "      <td>G. Gorilla</td>\n",
       "      <td>G. Gorilla</td>\n",
       "      <td>0.17147</td>\n",
       "      <td>3</td>\n",
       "      <td>leaf</td>\n",
       "    </tr>\n",
       "    <tr>\n",
       "      <th>8</th>\n",
       "      <td>0.84506</td>\n",
       "      <td>4</td>\n",
       "      <td>4</td>\n",
       "      <td>0.08386</td>\n",
       "      <td>3</td>\n",
       "      <td>node</td>\n",
       "    </tr>\n",
       "    <tr>\n",
       "      <th>9</th>\n",
       "      <td>1.03774</td>\n",
       "      <td>P. paniscus</td>\n",
       "      <td>P. paniscus</td>\n",
       "      <td>0.19268</td>\n",
       "      <td>4</td>\n",
       "      <td>leaf</td>\n",
       "    </tr>\n",
       "    <tr>\n",
       "      <th>10</th>\n",
       "      <td>0.96433</td>\n",
       "      <td>H. sapiens</td>\n",
       "      <td>H. sapiens</td>\n",
       "      <td>0.11927</td>\n",
       "      <td>4</td>\n",
       "      <td>leaf</td>\n",
       "    </tr>\n",
       "    <tr>\n",
       "      <th>11</th>\n",
       "      <td>1.21460</td>\n",
       "      <td>Rodent</td>\n",
       "      <td>Rodent</td>\n",
       "      <td>1.21460</td>\n",
       "      <td>0</td>\n",
       "      <td>leaf</td>\n",
       "    </tr>\n",
       "  </tbody>\n",
       "</table>\n",
       "</div>"
      ],
      "text/plain": [
       "    distance           id        label   length parent  type\n",
       "0    0.00000            0            0  0.00000   None  root\n",
       "1    0.69395       Bovine       Bovine  0.69395      0  leaf\n",
       "2    0.54939            1            1  0.54939      0  node\n",
       "3    0.91018    Hylobates    Hylobates  0.36079      1  leaf\n",
       "4    0.69996            2            2  0.15057      1  node\n",
       "5    1.03632        Pongo        Pongo  0.33636      2  leaf\n",
       "6    0.76120            3            3  0.06124      2  node\n",
       "7    0.93267   G. Gorilla   G. Gorilla  0.17147      3  leaf\n",
       "8    0.84506            4            4  0.08386      3  node\n",
       "9    1.03774  P. paniscus  P. paniscus  0.19268      4  leaf\n",
       "10   0.96433   H. sapiens   H. sapiens  0.11927      4  leaf\n",
       "11   1.21460       Rodent       Rodent  1.21460      0  leaf"
      ]
     },
     "execution_count": 2,
     "metadata": {},
     "output_type": "execute_result"
    }
   ],
   "source": [
    "# Read tree into PhyloPandas DataFrame\n",
    "df = read_newick('tree.newick')\n",
    "df"
   ]
  },
  {
   "cell_type": "code",
   "execution_count": 3,
   "metadata": {},
   "outputs": [
    {
     "data": {
      "text/html": [
       "<div class=\"vega-embed\" id=\"effd6496-6aae-4a4d-9935-589d522c151b\"></div>\n",
       "\n",
       "<style>\n",
       ".vega-embed svg, .vega-embed canvas {\n",
       "  border: 1px dotted gray;\n",
       "}\n",
       "\n",
       ".vega-embed .vega-actions a {\n",
       "  margin-right: 6px;\n",
       "}\n",
       "</style>\n"
      ]
     },
     "metadata": {
      "jupyter-vega3": "#effd6496-6aae-4a4d-9935-589d522c151b"
     },
     "output_type": "display_data"
    },
    {
     "data": {
      "application/javascript": [
       "var spec = {\"signals\": [{\"value\": 200, \"name\": \"branchScale\", \"bind\": {\"input\": \"range\", \"step\": 50, \"min\": 0, \"max\": 500}}, {\"value\": 100, \"name\": \"heightScale\", \"bind\": {\"input\": \"range\", \"step\": 5, \"min\": 0, \"max\": 100}}], \"padding\": 0, \"data\": [{\"values\": [{\"id\": \"0\", \"distance\": 0.0, \"type\": \"root\", \"parent\": null, \"label\": \"0\", \"length\": 0.0}, {\"id\": \"Bovine\", \"distance\": 0.69395, \"type\": \"leaf\", \"parent\": \"0\", \"label\": \"Bovine\", \"length\": 0.69395}, {\"id\": \"1\", \"distance\": 0.54939, \"type\": \"node\", \"parent\": \"0\", \"label\": \"1\", \"length\": 0.54939}, {\"id\": \"Hylobates\", \"distance\": 0.91018, \"type\": \"leaf\", \"parent\": \"1\", \"label\": \"Hylobates\", \"length\": 0.36079}, {\"id\": \"2\", \"distance\": 0.69996, \"type\": \"node\", \"parent\": \"1\", \"label\": \"2\", \"length\": 0.15057}, {\"id\": \"Pongo\", \"distance\": 1.03632, \"type\": \"leaf\", \"parent\": \"2\", \"label\": \"Pongo\", \"length\": 0.33636}, {\"id\": \"3\", \"distance\": 0.7612000000000001, \"type\": \"node\", \"parent\": \"2\", \"label\": \"3\", \"length\": 0.06124}, {\"id\": \"G. Gorilla\", \"distance\": 0.9326700000000001, \"type\": \"leaf\", \"parent\": \"3\", \"label\": \"G. Gorilla\", \"length\": 0.17147}, {\"id\": \"4\", \"distance\": 0.84506, \"type\": \"node\", \"parent\": \"3\", \"label\": \"4\", \"length\": 0.08386}, {\"id\": \"P. paniscus\", \"distance\": 1.03774, \"type\": \"leaf\", \"parent\": \"4\", \"label\": \"P. paniscus\", \"length\": 0.19268}, {\"id\": \"H. sapiens\", \"distance\": 0.96433, \"type\": \"leaf\", \"parent\": \"4\", \"label\": \"H. sapiens\", \"length\": 0.11927}, {\"id\": \"Rodent\", \"distance\": 1.2146, \"type\": \"leaf\", \"parent\": \"0\", \"label\": \"Rodent\", \"length\": 1.2146}], \"name\": \"tree\", \"transform\": [{\"key\": \"id\", \"parentKey\": \"parent\", \"type\": \"stratify\"}, {\"as\": [\"y0\", \"x0\", \"depth0\", \"children0\"], \"size\": [{\"signal\": \"height\"}, {\"signal\": \"width - 100\"}], \"method\": \"cluster\", \"type\": \"tree\"}, {\"as\": [\"y\", \"x\", \"depth\", \"children\"], \"size\": [{\"signal\": \"height\"}, {\"signal\": \"width - 100\"}], \"method\": \"cluster\", \"type\": \"tree\"}, {\"expr\": \"datum.distance * branchScale\", \"as\": \"x\", \"type\": \"formula\"}, {\"expr\": \"datum.y0 * (heightScale / 100)\", \"as\": \"y\", \"type\": \"formula\"}]}, {\"transform\": [{\"key\": \"id\", \"type\": \"treelinks\"}, {\"shape\": \"orthogonal\", \"orient\": \"horizontal\", \"type\": \"linkpath\"}], \"name\": \"links\", \"source\": \"tree\"}, {\"transform\": [{\"expr\": \"datum.type == 'node'\", \"type\": \"filter\"}], \"name\": \"nodes\", \"source\": \"tree\"}, {\"transform\": [{\"expr\": \"datum.type == 'leaf'\", \"type\": \"filter\"}], \"name\": \"leaves\", \"source\": \"tree\"}], \"$schema\": \"https://vega.github.io/schema/vega/v3.0.json\", \"scales\": [{\"zero\": true, \"domain\": {\"field\": \"depth\", \"data\": \"tree\"}, \"name\": \"color\", \"range\": {\"scheme\": \"magma\"}, \"type\": \"sequential\"}], \"width\": 300, \"marks\": [{\"encode\": {\"update\": {\"path\": {\"field\": \"path\"}, \"strokeWidth\": {\"value\": 3}, \"stroke\": {\"value\": \"#ccc\"}}}, \"from\": {\"data\": \"links\"}, \"type\": \"path\"}, {\"encode\": {\"enter\": {\"size\": {\"value\": 30}, \"stroke\": {\"value\": \"#000\"}}, \"update\": {\"y\": {\"field\": \"y\"}, \"fill\": {\"value\": \"#000\"}, \"x\": {\"field\": \"x\"}}}, \"from\": {\"data\": \"nodes\"}, \"type\": \"symbol\"}, {\"encode\": {\"enter\": {\"fill\": {\"value\": \"#000\"}, \"text\": {\"field\": \"label\"}}, \"update\": {\"y\": {\"field\": \"y\"}, \"x\": {\"field\": \"x\"}, \"dy\": {\"value\": 3}, \"dx\": {\"value\": 2}}}, \"from\": {\"data\": \"leaves\"}, \"type\": \"text\"}], \"height\": 300};\n",
       "var selector = \"#effd6496-6aae-4a4d-9935-589d522c151b\";\n",
       "var type = \"vega\";\n",
       "\n",
       "var output_area = this;\n",
       "require(['nbextensions/jupyter-vega3/index'], function(vega) {\n",
       "  vega.render(selector, spec, type, output_area);\n",
       "}, function (err) {\n",
       "  if (err.requireType !== 'scripterror') {\n",
       "    throw(err);\n",
       "  }\n",
       "});\n"
      ]
     },
     "metadata": {
      "jupyter-vega3": "#effd6496-6aae-4a4d-9935-589d522c151b"
     },
     "output_type": "display_data"
    },
    {
     "data": {
      "image/png": "[encoded data removed]"
     },
     "metadata": {
      "jupyter-vega3": "#effd6496-6aae-4a4d-9935-589d522c151b"
     },
     "output_type": "display_data"
    }
   ],
   "source": [
    "# Initialize a Vega Tree object.\n",
    "vt = VegaTree(df)\n",
    "\n",
    "# Display the tree.\n",
    "vt.display()"
   ]
  },
  {
   "cell_type": "code",
   "execution_count": null,
   "metadata": {},
   "outputs": [],
   "source": []
  }
 ],
 "metadata": {
  "kernelspec": {
   "display_name": "Python 3 (phylogenetics)",
   "language": "python",
   "name": "phylogenetics"
  },
  "language_info": {
   "codemirror_mode": {
    "name": "ipython",
    "version": 3
   },
   "file_extension": ".py",
   "mimetype": "text/x-python",
   "name": "python",
   "nbconvert_exporter": "python",
   "pygments_lexer": "ipython3",
   "version": "3.5.4"
  }
 },
 "nbformat": 4,
 "nbformat_minor": 2
}
