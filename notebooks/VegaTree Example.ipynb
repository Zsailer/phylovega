{
 "cells": [
  {
   "cell_type": "markdown",
   "metadata": {},
   "source": [
    "# Basic VegaTree Example"
   ]
  },
  {
   "cell_type": "code",
   "execution_count": 1,
   "metadata": {},
   "outputs": [],
   "source": [
    "# Import PhyloPandas to read tree data into DataFrame.\n",
    "from phylopandas.tree import read_newick\n",
    "\n",
    "# Import PhyloVega.\n",
    "from phylovega import VegaTree"
   ]
  },
  {
   "cell_type": "markdown",
   "metadata": {},
   "source": [
    "Here is the newick string:\n",
    "```\n",
    "(Bovine:0.69395,(Hylobates:0.36079,(Pongo:0.33636,(G._Gorilla:0.17147,(P._paniscus:0.19268,H._sapiens:0.11927):0.08386):0.06124):0.15057):0.54939, Rodent:1.21460);\n",
    "```"
   ]
  },
  {
   "cell_type": "code",
   "execution_count": 2,
   "metadata": {},
   "outputs": [
    {
     "data": {
      "text/html": [
       "<div>\n",
       "<style scoped>\n",
       "    .dataframe tbody tr th:only-of-type {\n",
       "        vertical-align: middle;\n",
       "    }\n",
       "\n",
       "    .dataframe tbody tr th {\n",
       "        vertical-align: top;\n",
       "    }\n",
       "\n",
       "    .dataframe thead th {\n",
       "        text-align: right;\n",
       "    }\n",
       "</style>\n",
       "<table border=\"1\" class=\"dataframe\">\n",
       "  <thead>\n",
       "    <tr style=\"text-align: right;\">\n",
       "      <th></th>\n",
       "      <th>distance</th>\n",
       "      <th>id</th>\n",
       "      <th>label</th>\n",
       "      <th>length</th>\n",
       "      <th>parent</th>\n",
       "      <th>type</th>\n",
       "    </tr>\n",
       "  </thead>\n",
       "  <tbody>\n",
       "    <tr>\n",
       "      <th>0</th>\n",
       "      <td>0.00000</td>\n",
       "      <td>0</td>\n",
       "      <td>0</td>\n",
       "      <td>0.00000</td>\n",
       "      <td>None</td>\n",
       "      <td>root</td>\n",
       "    </tr>\n",
       "    <tr>\n",
       "      <th>1</th>\n",
       "      <td>0.69395</td>\n",
       "      <td>Bovine</td>\n",
       "      <td>Bovine</td>\n",
       "      <td>0.69395</td>\n",
       "      <td>0</td>\n",
       "      <td>leaf</td>\n",
       "    </tr>\n",
       "    <tr>\n",
       "      <th>2</th>\n",
       "      <td>0.54939</td>\n",
       "      <td>1</td>\n",
       "      <td>1</td>\n",
       "      <td>0.54939</td>\n",
       "      <td>0</td>\n",
       "      <td>node</td>\n",
       "    </tr>\n",
       "    <tr>\n",
       "      <th>3</th>\n",
       "      <td>0.91018</td>\n",
       "      <td>Hylobates</td>\n",
       "      <td>Hylobates</td>\n",
       "      <td>0.36079</td>\n",
       "      <td>1</td>\n",
       "      <td>leaf</td>\n",
       "    </tr>\n",
       "    <tr>\n",
       "      <th>4</th>\n",
       "      <td>0.69996</td>\n",
       "      <td>2</td>\n",
       "      <td>2</td>\n",
       "      <td>0.15057</td>\n",
       "      <td>1</td>\n",
       "      <td>node</td>\n",
       "    </tr>\n",
       "    <tr>\n",
       "      <th>5</th>\n",
       "      <td>1.03632</td>\n",
       "      <td>Pongo</td>\n",
       "      <td>Pongo</td>\n",
       "      <td>0.33636</td>\n",
       "      <td>2</td>\n",
       "      <td>leaf</td>\n",
       "    </tr>\n",
       "    <tr>\n",
       "      <th>6</th>\n",
       "      <td>0.76120</td>\n",
       "      <td>3</td>\n",
       "      <td>3</td>\n",
       "      <td>0.06124</td>\n",
       "      <td>2</td>\n",
       "      <td>node</td>\n",
       "    </tr>\n",
       "    <tr>\n",
       "      <th>7</th>\n",
       "      <td>0.93267</td>\n",
       "      <td>G. Gorilla</td>\n",
       "      <td>G. Gorilla</td>\n",
       "      <td>0.17147</td>\n",
       "      <td>3</td>\n",
       "      <td>leaf</td>\n",
       "    </tr>\n",
       "    <tr>\n",
       "      <th>8</th>\n",
       "      <td>0.84506</td>\n",
       "      <td>4</td>\n",
       "      <td>4</td>\n",
       "      <td>0.08386</td>\n",
       "      <td>3</td>\n",
       "      <td>node</td>\n",
       "    </tr>\n",
       "    <tr>\n",
       "      <th>9</th>\n",
       "      <td>1.03774</td>\n",
       "      <td>P. paniscus</td>\n",
       "      <td>P. paniscus</td>\n",
       "      <td>0.19268</td>\n",
       "      <td>4</td>\n",
       "      <td>leaf</td>\n",
       "    </tr>\n",
       "    <tr>\n",
       "      <th>10</th>\n",
       "      <td>0.96433</td>\n",
       "      <td>H. sapiens</td>\n",
       "      <td>H. sapiens</td>\n",
       "      <td>0.11927</td>\n",
       "      <td>4</td>\n",
       "      <td>leaf</td>\n",
       "    </tr>\n",
       "    <tr>\n",
       "      <th>11</th>\n",
       "      <td>1.21460</td>\n",
       "      <td>Rodent</td>\n",
       "      <td>Rodent</td>\n",
       "      <td>1.21460</td>\n",
       "      <td>0</td>\n",
       "      <td>leaf</td>\n",
       "    </tr>\n",
       "  </tbody>\n",
       "</table>\n",
       "</div>"
      ],
      "text/plain": [
       "    distance           id        label   length parent  type\n",
       "0    0.00000            0            0  0.00000   None  root\n",
       "1    0.69395       Bovine       Bovine  0.69395      0  leaf\n",
       "2    0.54939            1            1  0.54939      0  node\n",
       "3    0.91018    Hylobates    Hylobates  0.36079      1  leaf\n",
       "4    0.69996            2            2  0.15057      1  node\n",
       "5    1.03632        Pongo        Pongo  0.33636      2  leaf\n",
       "6    0.76120            3            3  0.06124      2  node\n",
       "7    0.93267   G. Gorilla   G. Gorilla  0.17147      3  leaf\n",
       "8    0.84506            4            4  0.08386      3  node\n",
       "9    1.03774  P. paniscus  P. paniscus  0.19268      4  leaf\n",
       "10   0.96433   H. sapiens   H. sapiens  0.11927      4  leaf\n",
       "11   1.21460       Rodent       Rodent  1.21460      0  leaf"
      ]
     },
     "execution_count": 2,
     "metadata": {},
     "output_type": "execute_result"
    }
   ],
   "source": [
    "# Read tree into PhyloPandas DataFrame\n",
    "df = read_newick('tree.newick')\n",
    "df"
   ]
  },
  {
   "cell_type": "code",
   "execution_count": 3,
   "metadata": {},
   "outputs": [
    {
     "data": {
      "text/html": [
       "<div class=\"vega-embed\" id=\"9788fd54-92d7-4c71-aedc-8f74cfbb1e72\"></div>\n",
       "\n",
       "<style>\n",
       ".vega-embed svg, .vega-embed canvas {\n",
       "  border: 1px dotted gray;\n",
       "}\n",
       "\n",
       ".vega-embed .vega-actions a {\n",
       "  margin-right: 6px;\n",
       "}\n",
       "</style>\n"
      ]
     },
     "metadata": {
      "jupyter-vega3": "#9788fd54-92d7-4c71-aedc-8f74cfbb1e72"
     },
     "output_type": "display_data"
    },
    {
     "data": {
      "application/javascript": [
       "var spec = {\"$schema\": \"https://vega.github.io/schema/vega/v3.0.json\", \"padding\": 0, \"marks\": [{\"from\": {\"data\": \"links\"}, \"type\": \"path\", \"encode\": {\"update\": {\"path\": {\"field\": \"path\"}, \"stroke\": {\"value\": \"#ccc\"}, \"strokeWidth\": {\"value\": 3}}}}, {\"from\": {\"data\": \"nodes\"}, \"type\": \"symbol\", \"encode\": {\"enter\": {\"stroke\": {\"value\": \"#000\"}, \"size\": {\"value\": 30}, \"y\": {\"field\": \"y\"}, \"x\": {\"field\": \"x\"}, \"fill\": {\"value\": \"#000\"}}}}, {\"from\": {\"data\": \"leaves\"}, \"type\": \"text\", \"encode\": {\"update\": {\"dx\": {\"value\": 2}, \"y\": {\"field\": \"y\"}, \"dy\": {\"value\": 3}, \"x\": {\"field\": \"x\"}}, \"enter\": {\"fill\": {\"value\": \"#000\"}, \"text\": {\"field\": \"label\"}}}}], \"scales\": [{\"zero\": true, \"name\": \"color\", \"type\": \"sequential\", \"domain\": {\"data\": \"tree\", \"field\": \"depth\"}, \"range\": {\"scheme\": \"magma\"}}], \"height\": 300, \"data\": [{\"name\": \"tree\", \"transform\": [{\"type\": \"stratify\", \"key\": \"id\", \"parentKey\": \"parent\"}, {\"size\": [{\"signal\": \"height\"}, {\"signal\": \"width - 100\"}], \"type\": \"tree\", \"method\": \"cluster\", \"as\": [\"y\", \"x\", \"depth\", \"children\"]}, {\"as\": \"x\", \"type\": \"formula\", \"expr\": \"datum.distance * 200\"}, {\"as\": \"y\", \"type\": \"formula\", \"expr\": \"datum.y\"}], \"values\": [{\"parent\": null, \"id\": \"0\", \"label\": \"0\", \"length\": 0.0, \"type\": \"root\", \"distance\": 0.0}, {\"parent\": \"0\", \"id\": \"Bovine\", \"label\": \"Bovine\", \"length\": 0.69395, \"type\": \"leaf\", \"distance\": 0.69395}, {\"parent\": \"0\", \"id\": \"1\", \"label\": \"1\", \"length\": 0.54939, \"type\": \"node\", \"distance\": 0.54939}, {\"parent\": \"1\", \"id\": \"Hylobates\", \"label\": \"Hylobates\", \"length\": 0.36079, \"type\": \"leaf\", \"distance\": 0.91018}, {\"parent\": \"1\", \"id\": \"2\", \"label\": \"2\", \"length\": 0.15057, \"type\": \"node\", \"distance\": 0.69996}, {\"parent\": \"2\", \"id\": \"Pongo\", \"label\": \"Pongo\", \"length\": 0.33636, \"type\": \"leaf\", \"distance\": 1.03632}, {\"parent\": \"2\", \"id\": \"3\", \"label\": \"3\", \"length\": 0.06124, \"type\": \"node\", \"distance\": 0.7612000000000001}, {\"parent\": \"3\", \"id\": \"G. Gorilla\", \"label\": \"G. Gorilla\", \"length\": 0.17147, \"type\": \"leaf\", \"distance\": 0.9326700000000001}, {\"parent\": \"3\", \"id\": \"4\", \"label\": \"4\", \"length\": 0.08386, \"type\": \"node\", \"distance\": 0.84506}, {\"parent\": \"4\", \"id\": \"P. paniscus\", \"label\": \"P. paniscus\", \"length\": 0.19268, \"type\": \"leaf\", \"distance\": 1.03774}, {\"parent\": \"4\", \"id\": \"H. sapiens\", \"label\": \"H. sapiens\", \"length\": 0.11927, \"type\": \"leaf\", \"distance\": 0.96433}, {\"parent\": \"0\", \"id\": \"Rodent\", \"label\": \"Rodent\", \"length\": 1.2146, \"type\": \"leaf\", \"distance\": 1.2146}]}, {\"source\": \"tree\", \"name\": \"links\", \"transform\": [{\"type\": \"treelinks\", \"key\": \"id\"}, {\"type\": \"linkpath\", \"orient\": \"horizontal\", \"shape\": \"orthogonal\"}]}, {\"source\": \"tree\", \"name\": \"nodes\", \"transform\": [{\"type\": \"filter\", \"expr\": \"datum.type == 'node'\"}]}, {\"source\": \"tree\", \"name\": \"leaves\", \"transform\": [{\"type\": \"filter\", \"expr\": \"datum.type == 'leaf'\"}]}], \"width\": 500};\n",
       "var selector = \"#9788fd54-92d7-4c71-aedc-8f74cfbb1e72\";\n",
       "var type = \"vega\";\n",
       "\n",
       "var output_area = this;\n",
       "require(['nbextensions/jupyter-vega3/index'], function(vega) {\n",
       "  vega.render(selector, spec, type, output_area);\n",
       "}, function (err) {\n",
       "  if (err.requireType !== 'scripterror') {\n",
       "    throw(err);\n",
       "  }\n",
       "});\n"
      ]
     },
     "metadata": {
      "jupyter-vega3": "#9788fd54-92d7-4c71-aedc-8f74cfbb1e72"
     },
     "output_type": "display_data"
    },
    {
     "data": {
      "image/png": "[encoded data removed]"
     },
     "metadata": {
      "jupyter-vega3": "#9788fd54-92d7-4c71-aedc-8f74cfbb1e72"
     },
     "output_type": "display_data"
    }
   ],
   "source": [
    "# Initialize a Vega Tree object.\n",
    "vt = VegaTree(df)\n",
    "\n",
    "# Display the tree.\n",
    "vt.display()"
   ]
  },
  {
   "cell_type": "code",
   "execution_count": null,
   "metadata": {},
   "outputs": [],
   "source": []
  }
 ],
 "metadata": {
  "kernelspec": {
   "display_name": "Python 3 (phylogenetics)",
   "language": "python",
   "name": "phylogenetics"
  },
  "language_info": {
   "codemirror_mode": {
    "name": "ipython",
    "version": 3
   },
   "file_extension": ".py",
   "mimetype": "text/x-python",
   "name": "python",
   "nbconvert_exporter": "python",
   "pygments_lexer": "ipython3",
   "version": "3.5.4"
  }
 },
 "nbformat": 4,
 "nbformat_minor": 2
}
