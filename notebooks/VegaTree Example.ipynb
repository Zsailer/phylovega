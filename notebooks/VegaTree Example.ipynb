{
 "cells": [
  {
   "cell_type": "markdown",
   "metadata": {},
   "source": [
    "# Basic VegaTree Example"
   ]
  },
  {
   "cell_type": "code",
   "execution_count": 1,
   "metadata": {},
   "outputs": [],
   "source": [
    "# Import PhyloPandas to read tree data into DataFrame.\n",
    "from phylopandas import read_newick\n",
    "\n",
    "# Import PhyloVega.\n",
    "from phylovega import TreeChart"
   ]
  },
  {
   "cell_type": "markdown",
   "metadata": {},
   "source": [
    "Here is the newick string:\n",
    "```\n",
    "(Bovine:0.69395,(Hylobates:0.36079,(Pongo:0.33636,(G._Gorilla:0.17147,(P._paniscus:0.19268,H._sapiens:0.11927):0.08386):0.06124):0.15057):0.54939, Rodent:1.21460);\n",
    "```"
   ]
  },
  {
   "cell_type": "code",
   "execution_count": 2,
   "metadata": {},
   "outputs": [],
   "source": [
    "# Read tree into PhyloPandas DataFrame\n",
    "df = read_newick('tree.newick')\n",
    "data = df.to_dict(orient='records')"
   ]
  },
  {
   "cell_type": "code",
   "execution_count": 11,
   "metadata": {},
   "outputs": [
    {
     "data": {
      "application/vnd.vega.v4+json": {
       "data": [
        {
         "name": "tree",
         "transform": [
          {
           "key": "id",
           "parentKey": "parent",
           "type": "stratify"
          },
          {
           "as": [
            "y0",
            "x0",
            "depth0",
            "children0"
           ],
           "method": "cluster",
           "size": [
            500,
            500
           ],
           "type": "tree"
          },
          {
           "as": [
            "y",
            "x",
            "depth",
            "children"
           ],
           "method": "cluster",
           "size": [
            500,
            500
           ],
           "type": "tree"
          },
          {
           "as": "x",
           "expr": "datum.distance * 100",
           "type": "formula"
          },
          {
           "as": "y",
           "expr": "datum.y0 * (100 / 100)",
           "type": "formula"
          }
         ],
         "values": [
          {
           "children": 3,
           "children0": 3,
           "depth": 0,
           "depth0": 0,
           "distance": 0,
           "id": "0",
           "label": "0",
           "length": 0,
           "parent": null,
           "type": "root",
           "uid": "0t73y8nepF",
           "x": 0,
           "x0": 0,
           "y": 226.5625,
           "y0": 226.5625
          },
          {
           "children": 0,
           "children0": 0,
           "depth": 1,
           "depth0": 1,
           "distance": 0.69395,
           "id": "Bovine",
           "label": "Bovine",
           "length": 0.69395,
           "parent": "0",
           "type": "leaf",
           "uid": "UDtN4p899J",
           "x": 69.395,
           "x0": 500,
           "y": 20.833333333333332,
           "y0": 20.833333333333332
          },
          {
           "children": 2,
           "children0": 2,
           "depth": 1,
           "depth0": 1,
           "distance": 0.54939,
           "id": "1",
           "label": "1",
           "length": 0.54939,
           "parent": "0",
           "type": "node",
           "uid": "AGBOCRnDGb",
           "x": 54.93900000000001,
           "x0": 99.99999999999997,
           "y": 179.6875,
           "y0": 179.6875
          },
          {
           "children": 0,
           "children0": 0,
           "depth": 2,
           "depth0": 2,
           "distance": 0.91018,
           "id": "Hylobates",
           "label": "Hylobates",
           "length": 0.36079,
           "parent": "1",
           "type": "leaf",
           "uid": "Tzq2nh1PdZ",
           "x": 91.018,
           "x0": 500,
           "y": 104.16666666666667,
           "y0": 104.16666666666667
          },
          {
           "children": 2,
           "children0": 2,
           "depth": 2,
           "depth0": 2,
           "distance": 0.69996,
           "id": "2",
           "label": "2",
           "length": 0.15057,
           "parent": "1",
           "type": "node",
           "uid": "r0Rnlyxs7h",
           "x": 69.99600000000001,
           "x0": 200,
           "y": 255.20833333333331,
           "y0": 255.20833333333331
          },
          {
           "children": 0,
           "children0": 0,
           "depth": 3,
           "depth0": 3,
           "distance": 1.03632,
           "id": "Pongo",
           "label": "Pongo",
           "length": 0.33636,
           "parent": "2",
           "type": "leaf",
           "uid": "7h7Miz5WY4",
           "x": 103.63199999999999,
           "x0": 500,
           "y": 187.5,
           "y0": 187.5
          },
          {
           "children": 2,
           "children0": 2,
           "depth": 3,
           "depth0": 3,
           "distance": 0.7612000000000001,
           "id": "3",
           "label": "3",
           "length": 0.06124,
           "parent": "2",
           "type": "node",
           "uid": "Ji9jm4oF2Q",
           "x": 76.12,
           "x0": 300,
           "y": 322.9166666666667,
           "y0": 322.9166666666667
          },
          {
           "children": 0,
           "children0": 0,
           "depth": 4,
           "depth0": 4,
           "distance": 0.9326700000000001,
           "id": "G._Gorilla",
           "label": "G._Gorilla",
           "length": 0.17147,
           "parent": "3",
           "type": "leaf",
           "uid": "ihPQA8nJVL",
           "x": 93.26700000000001,
           "x0": 500,
           "y": 270.8333333333333,
           "y0": 270.8333333333333
          },
          {
           "children": 2,
           "children0": 2,
           "depth": 4,
           "depth0": 4,
           "distance": 0.84506,
           "id": "4",
           "label": "4",
           "length": 0.08386,
           "parent": "3",
           "type": "node",
           "uid": "VUqVk7FGr2",
           "x": 84.506,
           "x0": 400,
           "y": 375,
           "y0": 375
          },
          {
           "children": 0,
           "children0": 0,
           "depth": 5,
           "depth0": 5,
           "distance": 1.03774,
           "id": "P._paniscus",
           "label": "P._paniscus",
           "length": 0.19268,
           "parent": "4",
           "type": "leaf",
           "uid": "V04PJqxKN8",
           "x": 103.77400000000002,
           "x0": 500,
           "y": 354.1666666666667,
           "y0": 354.1666666666667
          },
          {
           "children": 0,
           "children0": 0,
           "depth": 5,
           "depth0": 5,
           "distance": 0.96433,
           "id": "H._sapiens",
           "label": "H._sapiens",
           "length": 0.11927,
           "parent": "4",
           "type": "leaf",
           "uid": "h05gwsrp3k",
           "x": 96.433,
           "x0": 500,
           "y": 395.8333333333333,
           "y0": 395.8333333333333
          },
          {
           "children": 0,
           "children0": 0,
           "depth": 1,
           "depth0": 1,
           "distance": 1.2146,
           "id": "Rodent",
           "label": "Rodent",
           "length": 1.2146,
           "parent": "0",
           "type": "leaf",
           "uid": "mAyaIBR2cA",
           "x": 121.46,
           "x0": 500,
           "y": 479.1666666666667,
           "y0": 479.1666666666667
          }
         ]
        },
        {
         "name": "links",
         "source": "tree",
         "transform": [
          {
           "key": "id",
           "type": "treelinks"
          },
          {
           "orient": "horizontal",
           "shape": "orthogonal",
           "type": "linkpath"
          }
         ]
        },
        {
         "name": "nodes",
         "source": "tree",
         "transform": [
          {
           "expr": "datum.type == \"node\"",
           "type": "filter"
          }
         ]
        },
        {
         "name": "leaves",
         "source": "tree",
         "transform": [
          {
           "expr": "datum.type == \"leaf\"",
           "type": "filter"
          }
         ]
        }
       ],
       "height": 500,
       "marks": [
        {
         "encode": {
          "update": {
           "path": {
            "field": "path"
           },
           "stroke": {
            "value": "#fee"
           },
           "strokeWidth": {
            "value": 5
           }
          }
         },
         "from": {
          "data": "links"
         },
         "type": "path"
        },
        {
         "encode": {
          "enter": {
           "size": {
            "value": 0
           },
           "stroke": {
            "value": "#000"
           }
          },
          "update": {
           "x": {
            "field": "x"
           },
           "y": {
            "field": "y"
           }
          }
         },
         "from": {
          "data": "leaves"
         },
         "type": "symbol"
        },
        {
         "encode": {
          "enter": {
           "size": {
            "value": 1000
           },
           "stroke": {
            "value": "#000"
           }
          },
          "update": {
           "fill": {
            "value": "#ddd"
           },
           "x": {
            "field": "x"
           },
           "y": {
            "field": "y"
           }
          }
         },
         "from": {
          "data": "nodes"
         },
         "type": "symbol"
        },
        {
         "encode": {
          "enter": {
           "fill": {
            "value": "#000"
           },
           "text": {
            "field": "id"
           }
          },
          "update": {
           "dx": {
            "value": 2
           },
           "dy": {
            "value": 3
           },
           "x": {
            "field": "x"
           },
           "y": {
            "field": "y"
           }
          }
         },
         "from": {
          "data": "leaves"
         },
         "type": "text"
        },
        {
         "encode": {
          "enter": {
           "fill": {
            "value": "#000"
           },
           "text": {
            "field": "id"
           }
          },
          "update": {
           "dx": {
            "value": 2
           },
           "dy": {
            "value": 3
           },
           "x": {
            "field": "x"
           },
           "y": {
            "field": "y"
           }
          }
         },
         "from": {
          "data": "nodes"
         },
         "type": "text"
        }
       ],
       "padding": 5,
       "width": 500
      },
      "image/png": "[encoded data removed]",
      "text/plain": [
       "<phylovega.app.TreeChart at 0x10b6a16d8>"
      ]
     },
     "execution_count": 11,
     "metadata": {},
     "output_type": "execute_result"
    }
   ],
   "source": [
    "# Initialize a Vega Tree object.\n",
    "TreeChart(data=data, node_size=1000, node_color='#ddd', branch_color='#fee')"
   ]
  },
  {
   "cell_type": "code",
   "execution_count": null,
   "metadata": {},
   "outputs": [],
   "source": []
  }
 ],
 "metadata": {
  "kernelspec": {
   "display_name": "Python 3",
   "language": "python",
   "name": "python3"
  },
  "language_info": {
   "codemirror_mode": {
    "name": "ipython",
    "version": 3
   },
   "file_extension": ".py",
   "mimetype": "text/x-python",
   "name": "python",
   "nbconvert_exporter": "python",
   "pygments_lexer": "ipython3",
   "version": "3.7.0"
  }
 },
 "nbformat": 4,
 "nbformat_minor": 2
}
