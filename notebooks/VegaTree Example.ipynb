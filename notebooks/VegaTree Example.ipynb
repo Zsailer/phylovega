{
 "cells": [
  {
   "cell_type": "markdown",
   "metadata": {},
   "source": [
    "# Basic VegaTree Example"
   ]
  },
  {
   "cell_type": "code",
   "execution_count": 1,
   "metadata": {},
   "outputs": [],
   "source": [
    "# Import PhyloVega.\n",
    "from phylovega import TreeChart"
   ]
  },
  {
   "cell_type": "markdown",
   "metadata": {},
   "source": [
    "Here is the newick string:\n",
    "```\n",
    "(Bovine:0.69395,(Hylobates:0.36079,(Pongo:0.33636,(G._Gorilla:0.17147,(P._paniscus:0.19268,H._sapiens:0.11927):0.08386):0.06124):0.15057):0.54939, Rodent:1.21460);\n",
    "```"
   ]
  },
  {
   "cell_type": "code",
   "execution_count": 2,
   "metadata": {},
   "outputs": [
    {
     "data": {
      "application/vnd.vega.v4+json": {
       "autosize": "fit",
       "data": [
        {
         "name": "tree",
         "transform": [
          {
           "key": "id",
           "parentKey": "parent",
           "type": "stratify"
          },
          {
           "as": [
            "y0",
            "x0",
            "depth0",
            "children0"
           ],
           "method": "cluster",
           "size": [
            84,
            300
           ],
           "type": "tree"
          },
          {
           "as": [
            "y",
            "x",
            "depth",
            "children"
           ],
           "method": "cluster",
           "size": [
            84,
            300
           ],
           "type": "tree"
          },
          {
           "as": "x",
           "expr": "0.8 * datum.distance * 246",
           "type": "formula"
          }
         ],
         "values": [
          {
           "children": 3,
           "children0": 3,
           "depth": 0,
           "depth0": 0,
           "distance": 0,
           "id": "0",
           "label": "0",
           "length": 0,
           "parent": null,
           "type": "root",
           "uid": "zc0boCPKSK",
           "x": 0,
           "x0": 0,
           "y": 38.0625,
           "y0": 38.0625
          },
          {
           "children": 0,
           "children0": 0,
           "depth": 1,
           "depth0": 1,
           "distance": 0.69395,
           "id": "Bovine",
           "label": "Bovine",
           "length": 0.69395,
           "parent": "0",
           "type": "leaf",
           "uid": "xpmnb5yt5p",
           "x": 136.56936,
           "x0": 300,
           "y": 3.5,
           "y0": 3.5
          },
          {
           "children": 2,
           "children0": 2,
           "depth": 1,
           "depth0": 1,
           "distance": 0.54939,
           "id": "1",
           "label": "1",
           "length": 0.54939,
           "parent": "0",
           "type": "node",
           "uid": "Enm1E8mNzu",
           "x": 108.11995200000001,
           "x0": 59.999999999999986,
           "y": 30.1875,
           "y0": 30.1875
          },
          {
           "children": 0,
           "children0": 0,
           "depth": 2,
           "depth0": 2,
           "distance": 0.91018,
           "id": "Hylobates",
           "label": "Hylobates",
           "length": 0.36079,
           "parent": "1",
           "type": "leaf",
           "uid": "eOkrYcBXX5",
           "x": 179.123424,
           "x0": 300,
           "y": 17.5,
           "y0": 17.5
          },
          {
           "children": 2,
           "children0": 2,
           "depth": 2,
           "depth0": 2,
           "distance": 0.69996,
           "id": "2",
           "label": "2",
           "length": 0.15057,
           "parent": "1",
           "type": "node",
           "uid": "757k62qawV",
           "x": 137.752128,
           "x0": 120,
           "y": 42.875,
           "y0": 42.875
          },
          {
           "children": 0,
           "children0": 0,
           "depth": 3,
           "depth0": 3,
           "distance": 1.03632,
           "id": "Pongo",
           "label": "Pongo",
           "length": 0.33636,
           "parent": "2",
           "type": "leaf",
           "uid": "e9Dz1fjWPr",
           "x": 203.947776,
           "x0": 300,
           "y": 31.5,
           "y0": 31.5
          },
          {
           "children": 2,
           "children0": 2,
           "depth": 3,
           "depth0": 3,
           "distance": 0.7612000000000001,
           "id": "3",
           "label": "3",
           "length": 0.06124,
           "parent": "2",
           "type": "node",
           "uid": "PZaxtCOaf7",
           "x": 149.80416000000005,
           "x0": 180,
           "y": 54.25,
           "y0": 54.25
          },
          {
           "children": 0,
           "children0": 0,
           "depth": 4,
           "depth0": 4,
           "distance": 0.9326700000000001,
           "id": "G._Gorilla",
           "label": "G._Gorilla",
           "length": 0.17147,
           "parent": "3",
           "type": "leaf",
           "uid": "Sb8KG4NpDE",
           "x": 183.54945600000002,
           "x0": 300,
           "y": 45.5,
           "y0": 45.5
          },
          {
           "children": 2,
           "children0": 2,
           "depth": 4,
           "depth0": 4,
           "distance": 0.84506,
           "id": "4",
           "label": "4",
           "length": 0.08386,
           "parent": "3",
           "type": "node",
           "uid": "pVjxHThOS8",
           "x": 166.30780800000002,
           "x0": 240,
           "y": 63,
           "y0": 63
          },
          {
           "children": 0,
           "children0": 0,
           "depth": 5,
           "depth0": 5,
           "distance": 1.03774,
           "id": "P._paniscus",
           "label": "P._paniscus",
           "length": 0.19268,
           "parent": "4",
           "type": "leaf",
           "uid": "LEW3R33HjM",
           "x": 204.22723200000004,
           "x0": 300,
           "y": 59.5,
           "y0": 59.5
          },
          {
           "children": 0,
           "children0": 0,
           "depth": 5,
           "depth0": 5,
           "distance": 0.96433,
           "id": "H._sapiens",
           "label": "H._sapiens",
           "length": 0.11927,
           "parent": "4",
           "type": "leaf",
           "uid": "8VN2Zava9k",
           "x": 189.780144,
           "x0": 300,
           "y": 66.5,
           "y0": 66.5
          },
          {
           "children": 0,
           "children0": 0,
           "depth": 1,
           "depth0": 1,
           "distance": 1.2146,
           "id": "Rodent",
           "label": "Rodent",
           "length": 1.2146,
           "parent": "0",
           "type": "leaf",
           "uid": "bG4rr6wQiD",
           "x": 239.03328,
           "x0": 300,
           "y": 80.5,
           "y0": 80.5
          }
         ]
        },
        {
         "name": "links",
         "source": "tree",
         "transform": [
          {
           "key": "id",
           "type": "treelinks"
          },
          {
           "orient": "horizontal",
           "shape": "orthogonal",
           "type": "linkpath"
          }
         ]
        },
        {
         "name": "nodes",
         "source": "tree",
         "transform": [
          {
           "expr": "datum.type == \"node\"",
           "type": "filter"
          }
         ]
        },
        {
         "name": "leaves",
         "source": "tree",
         "transform": [
          {
           "expr": "datum.type == \"leaf\"",
           "type": "filter"
          }
         ]
        }
       ],
       "height": 84,
       "marks": [
        {
         "encode": {
          "update": {
           "path": {
            "field": "path"
           },
           "stroke": {
            "value": "#ccc"
           },
           "strokeWidth": {
            "value": 2
           }
          }
         },
         "from": {
          "data": "links"
         },
         "type": "path"
        },
        {
         "encode": {
          "enter": {
           "fill": {
            "value": "#000"
           },
           "stroke": {
            "value": "#000"
           }
          },
          "update": {
           "size": {
            "value": 0
           },
           "strokeWidth": {
            "value": 1
           },
           "x": {
            "field": "x"
           },
           "y": {
            "field": "y"
           }
          }
         },
         "from": {
          "data": "leaves"
         },
         "type": "symbol"
        },
        {
         "encode": {
          "enter": {
           "stroke": {
            "value": "#000"
           }
          },
          "update": {
           "fill": {
            "value": "#000"
           },
           "size": {
            "value": 50
           },
           "strokeWidth": {
            "value": 1
           },
           "x": {
            "field": "x"
           },
           "y": {
            "field": "y"
           }
          }
         },
         "from": {
          "data": "nodes"
         },
         "type": "symbol"
        },
        {
         "encode": {
          "enter": {
           "fill": {
            "value": "#000"
           },
           "text": {
            "field": "id"
           }
          },
          "update": {
           "dx": {
            "value": 4
           },
           "dy": {
            "value": 3
           },
           "fontSize": {
            "value": 10
           },
           "x": {
            "field": "x"
           },
           "y": {
            "field": "y"
           }
          }
         },
         "from": {
          "data": "leaves"
         },
         "type": "text"
        },
        {
         "encode": {
          "enter": {
           "fill": {
            "value": "#000"
           },
           "text": {
            "field": "id"
           }
          },
          "update": {
           "dx": {
            "value": 4
           },
           "dy": {
            "value": 3
           },
           "fontSize": {
            "value": 10
           },
           "x": {
            "field": "x"
           },
           "y": {
            "field": "y"
           }
          }
         },
         "from": {
          "data": "nodes"
         },
         "type": "text"
        }
       ],
       "padding": 5,
       "signals": [],
       "width": 300
      },
      "image/png": "[encoded data removed]",
      "text/plain": [
       "<phylovega.app.TreeChart at 0x112e20630>"
      ]
     },
     "execution_count": 2,
     "metadata": {},
     "output_type": "execute_result"
    }
   ],
   "source": [
    "# Initialize a Vega Tree object.\n",
    "TreeChart.from_newick('tree.newick')"
   ]
  },
  {
   "cell_type": "code",
   "execution_count": null,
   "metadata": {},
   "outputs": [],
   "source": [
    "# Initialize a Vega Tree object.\n",
    "TreeChart.from_newick(\n",
    "    'tree.newick',\n",
    "#     width=300,\n",
    "#     leaf_label='id',\n",
    "#     branch_color='?',\n",
    "#     branch_width=1,\n",
    "#     leaf_text_size=10,\n",
    "#     node_size=50, \n",
    "#     node_text_size=10,\n",
    "#     node_text_xoffset=(-10,10),\n",
    "#     node_text_yoffset=(-10,10),\n",
    "    )"
   ]
  }
 ],
 "metadata": {
  "kernelspec": {
   "display_name": "Python 3",
   "language": "python",
   "name": "python3"
  },
  "language_info": {
   "codemirror_mode": {
    "name": "ipython",
    "version": 3
   },
   "file_extension": ".py",
   "mimetype": "text/x-python",
   "name": "python",
   "nbconvert_exporter": "python",
   "pygments_lexer": "ipython3",
   "version": "3.7.0"
  }
 },
 "nbformat": 4,
 "nbformat_minor": 2
}
