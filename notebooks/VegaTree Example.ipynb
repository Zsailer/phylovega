{
 "cells": [
  {
   "cell_type": "markdown",
   "metadata": {},
   "source": [
    "# Basic VegaTree Example"
   ]
  },
  {
   "cell_type": "code",
   "execution_count": 1,
   "metadata": {},
   "outputs": [],
   "source": [
    "# Import PhyloVega.\n",
    "from phylovega import TreeChart"
   ]
  },
  {
   "cell_type": "markdown",
   "metadata": {},
   "source": [
    "Here is the newick string:\n",
    "```\n",
    "(Bovine:0.69395,(Hylobates:0.36079,(Pongo:0.33636,(G._Gorilla:0.17147,(P._paniscus:0.19268,H._sapiens:0.11927):0.08386):0.06124):0.15057):0.54939, Rodent:1.21460);\n",
    "```"
   ]
  },
  {
   "cell_type": "code",
   "execution_count": 2,
   "metadata": {},
   "outputs": [
    {
     "data": {
      "application/vnd.vega.v4+json": {
       "data": [
        {
         "name": "tree",
         "transform": [
          {
           "key": "id",
           "parentKey": "parent",
           "type": "stratify"
          },
          {
           "as": [
            "y0",
            "x0",
            "depth0",
            "children0"
           ],
           "method": "cluster",
           "size": [
            300,
            500
           ],
           "type": "tree"
          },
          {
           "as": [
            "y",
            "x",
            "depth",
            "children"
           ],
           "method": "cluster",
           "size": [
            300,
            500
           ],
           "type": "tree"
          },
          {
           "as": "x",
           "expr": "datum.distance * 100",
           "type": "formula"
          },
          {
           "as": "y",
           "expr": "datum.y0 * (100 / 100)",
           "type": "formula"
          }
         ],
         "values": [
          {
           "children": 3,
           "children0": 3,
           "depth": 0,
           "depth0": 0,
           "distance": 0,
           "id": "0",
           "label": "0",
           "length": 0,
           "parent": null,
           "type": "root",
           "uid": "z12X6wvKot",
           "x": 0,
           "x0": 0,
           "y": 135.9375,
           "y0": 135.9375
          },
          {
           "children": 0,
           "children0": 0,
           "depth": 1,
           "depth0": 1,
           "distance": 0.69395,
           "id": "Bovine",
           "label": "Bovine",
           "length": 0.69395,
           "parent": "0",
           "type": "leaf",
           "uid": "DRp3sa8lTT",
           "x": 69.395,
           "x0": 500,
           "y": 12.5,
           "y0": 12.5
          },
          {
           "children": 2,
           "children0": 2,
           "depth": 1,
           "depth0": 1,
           "distance": 0.54939,
           "id": "1",
           "label": "1",
           "length": 0.54939,
           "parent": "0",
           "type": "node",
           "uid": "tcaRDGEElL",
           "x": 54.93900000000001,
           "x0": 99.99999999999997,
           "y": 107.8125,
           "y0": 107.8125
          },
          {
           "children": 0,
           "children0": 0,
           "depth": 2,
           "depth0": 2,
           "distance": 0.91018,
           "id": "Hylobates",
           "label": "Hylobates",
           "length": 0.36079,
           "parent": "1",
           "type": "leaf",
           "uid": "PSpzULumgY",
           "x": 91.018,
           "x0": 500,
           "y": 62.5,
           "y0": 62.5
          },
          {
           "children": 2,
           "children0": 2,
           "depth": 2,
           "depth0": 2,
           "distance": 0.69996,
           "id": "2",
           "label": "2",
           "length": 0.15057,
           "parent": "1",
           "type": "node",
           "uid": "RJHGYVilZ3",
           "x": 69.99600000000001,
           "x0": 200,
           "y": 153.125,
           "y0": 153.125
          },
          {
           "children": 0,
           "children0": 0,
           "depth": 3,
           "depth0": 3,
           "distance": 1.03632,
           "id": "Pongo",
           "label": "Pongo",
           "length": 0.33636,
           "parent": "2",
           "type": "leaf",
           "uid": "i6pQSHeYIA",
           "x": 103.63199999999999,
           "x0": 500,
           "y": 112.5,
           "y0": 112.5
          },
          {
           "children": 2,
           "children0": 2,
           "depth": 3,
           "depth0": 3,
           "distance": 0.7612000000000001,
           "id": "3",
           "label": "3",
           "length": 0.06124,
           "parent": "2",
           "type": "node",
           "uid": "b79woDgHP6",
           "x": 76.12,
           "x0": 300,
           "y": 193.75,
           "y0": 193.75
          },
          {
           "children": 0,
           "children0": 0,
           "depth": 4,
           "depth0": 4,
           "distance": 0.9326700000000001,
           "id": "G._Gorilla",
           "label": "G._Gorilla",
           "length": 0.17147,
           "parent": "3",
           "type": "leaf",
           "uid": "6NDuEvPsLL",
           "x": 93.26700000000001,
           "x0": 500,
           "y": 162.5,
           "y0": 162.5
          },
          {
           "children": 2,
           "children0": 2,
           "depth": 4,
           "depth0": 4,
           "distance": 0.84506,
           "id": "4",
           "label": "4",
           "length": 0.08386,
           "parent": "3",
           "type": "node",
           "uid": "DvRSBsomeH",
           "x": 84.506,
           "x0": 400,
           "y": 225,
           "y0": 225
          },
          {
           "children": 0,
           "children0": 0,
           "depth": 5,
           "depth0": 5,
           "distance": 1.03774,
           "id": "P._paniscus",
           "label": "P._paniscus",
           "length": 0.19268,
           "parent": "4",
           "type": "leaf",
           "uid": "ExDhueFbqz",
           "x": 103.77400000000002,
           "x0": 500,
           "y": 212.5,
           "y0": 212.5
          },
          {
           "children": 0,
           "children0": 0,
           "depth": 5,
           "depth0": 5,
           "distance": 0.96433,
           "id": "H._sapiens",
           "label": "H._sapiens",
           "length": 0.11927,
           "parent": "4",
           "type": "leaf",
           "uid": "b57u1Rt5UR",
           "x": 96.433,
           "x0": 500,
           "y": 237.5,
           "y0": 237.5
          },
          {
           "children": 0,
           "children0": 0,
           "depth": 1,
           "depth0": 1,
           "distance": 1.2146,
           "id": "Rodent",
           "label": "Rodent",
           "length": 1.2146,
           "parent": "0",
           "type": "leaf",
           "uid": "kBUnpL6xbI",
           "x": 121.46,
           "x0": 500,
           "y": 287.5,
           "y0": 287.5
          }
         ]
        },
        {
         "name": "links",
         "source": "tree",
         "transform": [
          {
           "key": "id",
           "type": "treelinks"
          },
          {
           "orient": "horizontal",
           "shape": "orthogonal",
           "type": "linkpath"
          }
         ]
        },
        {
         "name": "nodes",
         "source": "tree",
         "transform": [
          {
           "expr": "datum.type == \"node\"",
           "type": "filter"
          }
         ]
        },
        {
         "name": "leaves",
         "source": "tree",
         "transform": [
          {
           "expr": "datum.type == \"leaf\"",
           "type": "filter"
          }
         ]
        }
       ],
       "height": 300,
       "marks": [
        {
         "encode": {
          "update": {
           "path": {
            "field": "path"
           },
           "stroke": {
            "value": "#ccc"
           },
           "strokeWidth": {
            "value": 5
           }
          }
         },
         "from": {
          "data": "links"
         },
         "type": "path"
        },
        {
         "encode": {
          "enter": {
           "fill": {
            "value": "#000"
           },
           "stroke": {
            "value": "#000"
           }
          },
          "update": {
           "size": {
            "value": 0
           },
           "strokeWidth": {
            "value": 1
           },
           "x": {
            "field": "x"
           },
           "y": {
            "field": "y"
           }
          }
         },
         "from": {
          "data": "leaves"
         },
         "type": "symbol"
        },
        {
         "encode": {
          "enter": {
           "stroke": {
            "value": "#000"
           }
          },
          "update": {
           "fill": {
            "value": "#000"
           },
           "size": {
            "value": 70
           },
           "strokeWidth": {
            "value": 1
           },
           "x": {
            "field": "x"
           },
           "y": {
            "field": "y"
           }
          }
         },
         "from": {
          "data": "nodes"
         },
         "type": "symbol"
        },
        {
         "encode": {
          "enter": {
           "fill": {
            "value": "#000"
           },
           "text": {
            "field": "id"
           }
          },
          "update": {
           "dx": {
            "value": 0
           },
           "dy": {
            "value": -3.3333333333333335
           },
           "fontSize": {
            "value": 10
           },
           "x": {
            "field": "x"
           },
           "y": {
            "field": "y"
           }
          }
         },
         "from": {
          "data": "leaves"
         },
         "type": "text"
        },
        {
         "encode": {
          "enter": {
           "fill": {
            "value": "#000"
           },
           "text": {
            "field": "id"
           }
          },
          "update": {
           "dx": {
            "value": 0
           },
           "dy": {
            "value": -3.3333333333333335
           },
           "fontSize": {
            "value": 10
           },
           "x": {
            "field": "x"
           },
           "y": {
            "field": "y"
           }
          }
         },
         "from": {
          "data": "nodes"
         },
         "type": "text"
        }
       ],
       "padding": 5,
       "signals": [],
       "width": 500
      },
      "image/png": "[encoded data removed]",
      "text/plain": [
       "<phylovega.app.TreeChart at 0x10f8a7940>"
      ]
     },
     "execution_count": 2,
     "metadata": {},
     "output_type": "execute_result"
    }
   ],
   "source": [
    "# Initialize a Vega Tree object.\n",
    "TreeChart.from_newick(\n",
    "    'tree.newick',\n",
    "    width=500,\n",
    "    height=300,\n",
    "    \n",
    "#     branch_color='?',\n",
    "#     branch_width=(0, 10),\n",
    "    \n",
    "#     leaf_text_size=(1, 10),\n",
    "\n",
    "#     node_size=(0, 500), \n",
    "#     node_color='?',\n",
    "#     node_text_size=(0, 10),\n",
    "#     node_edge_width=(0,10),\n",
    "#     node_text_xoffset=(-10,10),\n",
    "#     node_text_yoffset=(-10,10),\n",
    ")"
   ]
  },
  {
   "cell_type": "code",
   "execution_count": null,
   "metadata": {},
   "outputs": [],
   "source": []
  }
 ],
 "metadata": {
  "kernelspec": {
   "display_name": "Python 3",
   "language": "python",
   "name": "python3"
  },
  "language_info": {
   "codemirror_mode": {
    "name": "ipython",
    "version": 3
   },
   "file_extension": ".py",
   "mimetype": "text/x-python",
   "name": "python",
   "nbconvert_exporter": "python",
   "pygments_lexer": "ipython3",
   "version": "3.7.0"
  }
 },
 "nbformat": 4,
 "nbformat_minor": 2
}
